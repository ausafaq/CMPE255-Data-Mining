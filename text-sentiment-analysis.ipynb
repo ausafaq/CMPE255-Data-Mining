{
 "cells": [
  {
   "cell_type": "code",
   "execution_count": 1,
   "metadata": {},
   "outputs": [
    {
     "name": "stderr",
     "output_type": "stream",
     "text": [
      "C:\\Users\\ausaf\\Anaconda3\\envs\\tensorflow_environment\\lib\\site-packages\\h5py\\__init__.py:72: UserWarning: h5py is running against HDF5 1.10.2 when it was built against 1.10.3, this may cause problems\n",
      "  '{0}.{1}.{2}'.format(*version.hdf5_built_version_tuple)\n",
      "Using TensorFlow backend.\n"
     ]
    }
   ],
   "source": [
    "import html\n",
    "import re\n",
    "\n",
    "import numpy as np\n",
    "\n",
    "from sklearn.model_selection import train_test_split\n",
    "from sklearn.preprocessing import LabelBinarizer\n",
    "\n",
    "import tensorflow_hub as hub\n",
    "import tensorflow as tf\n",
    "\n",
    "import keras"
   ]
  },
  {
   "cell_type": "code",
   "execution_count": 2,
   "metadata": {},
   "outputs": [
    {
     "name": "stdout",
     "output_type": "stream",
     "text": [
      "INFO:tensorflow:Using C:\\Users\\ausaf\\AppData\\Local\\Temp\\tfhub_modules to cache modules.\n",
      "INFO:tensorflow:Initialize variable module/aggregation/scaling:0 from checkpoint b'C:\\\\Users\\\\ausaf\\\\AppData\\\\Local\\\\Temp\\\\tfhub_modules\\\\9bb74bc86f9caffc8c47dd7b33ec4bb354d9602d\\\\variables\\\\variables' with aggregation/scaling\n",
      "INFO:tensorflow:Initialize variable module/aggregation/weights:0 from checkpoint b'C:\\\\Users\\\\ausaf\\\\AppData\\\\Local\\\\Temp\\\\tfhub_modules\\\\9bb74bc86f9caffc8c47dd7b33ec4bb354d9602d\\\\variables\\\\variables' with aggregation/weights\n",
      "INFO:tensorflow:Initialize variable module/bilm/CNN/W_cnn_0:0 from checkpoint b'C:\\\\Users\\\\ausaf\\\\AppData\\\\Local\\\\Temp\\\\tfhub_modules\\\\9bb74bc86f9caffc8c47dd7b33ec4bb354d9602d\\\\variables\\\\variables' with bilm/CNN/W_cnn_0\n",
      "INFO:tensorflow:Initialize variable module/bilm/CNN/W_cnn_1:0 from checkpoint b'C:\\\\Users\\\\ausaf\\\\AppData\\\\Local\\\\Temp\\\\tfhub_modules\\\\9bb74bc86f9caffc8c47dd7b33ec4bb354d9602d\\\\variables\\\\variables' with bilm/CNN/W_cnn_1\n",
      "INFO:tensorflow:Initialize variable module/bilm/CNN/W_cnn_2:0 from checkpoint b'C:\\\\Users\\\\ausaf\\\\AppData\\\\Local\\\\Temp\\\\tfhub_modules\\\\9bb74bc86f9caffc8c47dd7b33ec4bb354d9602d\\\\variables\\\\variables' with bilm/CNN/W_cnn_2\n",
      "INFO:tensorflow:Initialize variable module/bilm/CNN/W_cnn_3:0 from checkpoint b'C:\\\\Users\\\\ausaf\\\\AppData\\\\Local\\\\Temp\\\\tfhub_modules\\\\9bb74bc86f9caffc8c47dd7b33ec4bb354d9602d\\\\variables\\\\variables' with bilm/CNN/W_cnn_3\n",
      "INFO:tensorflow:Initialize variable module/bilm/CNN/W_cnn_4:0 from checkpoint b'C:\\\\Users\\\\ausaf\\\\AppData\\\\Local\\\\Temp\\\\tfhub_modules\\\\9bb74bc86f9caffc8c47dd7b33ec4bb354d9602d\\\\variables\\\\variables' with bilm/CNN/W_cnn_4\n",
      "INFO:tensorflow:Initialize variable module/bilm/CNN/W_cnn_5:0 from checkpoint b'C:\\\\Users\\\\ausaf\\\\AppData\\\\Local\\\\Temp\\\\tfhub_modules\\\\9bb74bc86f9caffc8c47dd7b33ec4bb354d9602d\\\\variables\\\\variables' with bilm/CNN/W_cnn_5\n",
      "INFO:tensorflow:Initialize variable module/bilm/CNN/W_cnn_6:0 from checkpoint b'C:\\\\Users\\\\ausaf\\\\AppData\\\\Local\\\\Temp\\\\tfhub_modules\\\\9bb74bc86f9caffc8c47dd7b33ec4bb354d9602d\\\\variables\\\\variables' with bilm/CNN/W_cnn_6\n",
      "INFO:tensorflow:Initialize variable module/bilm/CNN/b_cnn_0:0 from checkpoint b'C:\\\\Users\\\\ausaf\\\\AppData\\\\Local\\\\Temp\\\\tfhub_modules\\\\9bb74bc86f9caffc8c47dd7b33ec4bb354d9602d\\\\variables\\\\variables' with bilm/CNN/b_cnn_0\n",
      "INFO:tensorflow:Initialize variable module/bilm/CNN/b_cnn_1:0 from checkpoint b'C:\\\\Users\\\\ausaf\\\\AppData\\\\Local\\\\Temp\\\\tfhub_modules\\\\9bb74bc86f9caffc8c47dd7b33ec4bb354d9602d\\\\variables\\\\variables' with bilm/CNN/b_cnn_1\n",
      "INFO:tensorflow:Initialize variable module/bilm/CNN/b_cnn_2:0 from checkpoint b'C:\\\\Users\\\\ausaf\\\\AppData\\\\Local\\\\Temp\\\\tfhub_modules\\\\9bb74bc86f9caffc8c47dd7b33ec4bb354d9602d\\\\variables\\\\variables' with bilm/CNN/b_cnn_2\n",
      "INFO:tensorflow:Initialize variable module/bilm/CNN/b_cnn_3:0 from checkpoint b'C:\\\\Users\\\\ausaf\\\\AppData\\\\Local\\\\Temp\\\\tfhub_modules\\\\9bb74bc86f9caffc8c47dd7b33ec4bb354d9602d\\\\variables\\\\variables' with bilm/CNN/b_cnn_3\n",
      "INFO:tensorflow:Initialize variable module/bilm/CNN/b_cnn_4:0 from checkpoint b'C:\\\\Users\\\\ausaf\\\\AppData\\\\Local\\\\Temp\\\\tfhub_modules\\\\9bb74bc86f9caffc8c47dd7b33ec4bb354d9602d\\\\variables\\\\variables' with bilm/CNN/b_cnn_4\n",
      "INFO:tensorflow:Initialize variable module/bilm/CNN/b_cnn_5:0 from checkpoint b'C:\\\\Users\\\\ausaf\\\\AppData\\\\Local\\\\Temp\\\\tfhub_modules\\\\9bb74bc86f9caffc8c47dd7b33ec4bb354d9602d\\\\variables\\\\variables' with bilm/CNN/b_cnn_5\n",
      "INFO:tensorflow:Initialize variable module/bilm/CNN/b_cnn_6:0 from checkpoint b'C:\\\\Users\\\\ausaf\\\\AppData\\\\Local\\\\Temp\\\\tfhub_modules\\\\9bb74bc86f9caffc8c47dd7b33ec4bb354d9602d\\\\variables\\\\variables' with bilm/CNN/b_cnn_6\n",
      "INFO:tensorflow:Initialize variable module/bilm/CNN_high_0/W_carry:0 from checkpoint b'C:\\\\Users\\\\ausaf\\\\AppData\\\\Local\\\\Temp\\\\tfhub_modules\\\\9bb74bc86f9caffc8c47dd7b33ec4bb354d9602d\\\\variables\\\\variables' with bilm/CNN_high_0/W_carry\n",
      "INFO:tensorflow:Initialize variable module/bilm/CNN_high_0/W_transform:0 from checkpoint b'C:\\\\Users\\\\ausaf\\\\AppData\\\\Local\\\\Temp\\\\tfhub_modules\\\\9bb74bc86f9caffc8c47dd7b33ec4bb354d9602d\\\\variables\\\\variables' with bilm/CNN_high_0/W_transform\n",
      "INFO:tensorflow:Initialize variable module/bilm/CNN_high_0/b_carry:0 from checkpoint b'C:\\\\Users\\\\ausaf\\\\AppData\\\\Local\\\\Temp\\\\tfhub_modules\\\\9bb74bc86f9caffc8c47dd7b33ec4bb354d9602d\\\\variables\\\\variables' with bilm/CNN_high_0/b_carry\n",
      "INFO:tensorflow:Initialize variable module/bilm/CNN_high_0/b_transform:0 from checkpoint b'C:\\\\Users\\\\ausaf\\\\AppData\\\\Local\\\\Temp\\\\tfhub_modules\\\\9bb74bc86f9caffc8c47dd7b33ec4bb354d9602d\\\\variables\\\\variables' with bilm/CNN_high_0/b_transform\n",
      "INFO:tensorflow:Initialize variable module/bilm/CNN_high_1/W_carry:0 from checkpoint b'C:\\\\Users\\\\ausaf\\\\AppData\\\\Local\\\\Temp\\\\tfhub_modules\\\\9bb74bc86f9caffc8c47dd7b33ec4bb354d9602d\\\\variables\\\\variables' with bilm/CNN_high_1/W_carry\n",
      "INFO:tensorflow:Initialize variable module/bilm/CNN_high_1/W_transform:0 from checkpoint b'C:\\\\Users\\\\ausaf\\\\AppData\\\\Local\\\\Temp\\\\tfhub_modules\\\\9bb74bc86f9caffc8c47dd7b33ec4bb354d9602d\\\\variables\\\\variables' with bilm/CNN_high_1/W_transform\n",
      "INFO:tensorflow:Initialize variable module/bilm/CNN_high_1/b_carry:0 from checkpoint b'C:\\\\Users\\\\ausaf\\\\AppData\\\\Local\\\\Temp\\\\tfhub_modules\\\\9bb74bc86f9caffc8c47dd7b33ec4bb354d9602d\\\\variables\\\\variables' with bilm/CNN_high_1/b_carry\n",
      "INFO:tensorflow:Initialize variable module/bilm/CNN_high_1/b_transform:0 from checkpoint b'C:\\\\Users\\\\ausaf\\\\AppData\\\\Local\\\\Temp\\\\tfhub_modules\\\\9bb74bc86f9caffc8c47dd7b33ec4bb354d9602d\\\\variables\\\\variables' with bilm/CNN_high_1/b_transform\n",
      "INFO:tensorflow:Initialize variable module/bilm/CNN_proj/W_proj:0 from checkpoint b'C:\\\\Users\\\\ausaf\\\\AppData\\\\Local\\\\Temp\\\\tfhub_modules\\\\9bb74bc86f9caffc8c47dd7b33ec4bb354d9602d\\\\variables\\\\variables' with bilm/CNN_proj/W_proj\n",
      "INFO:tensorflow:Initialize variable module/bilm/CNN_proj/b_proj:0 from checkpoint b'C:\\\\Users\\\\ausaf\\\\AppData\\\\Local\\\\Temp\\\\tfhub_modules\\\\9bb74bc86f9caffc8c47dd7b33ec4bb354d9602d\\\\variables\\\\variables' with bilm/CNN_proj/b_proj\n",
      "INFO:tensorflow:Initialize variable module/bilm/RNN_0/RNN/MultiRNNCell/Cell0/rnn/lstm_cell/bias:0 from checkpoint b'C:\\\\Users\\\\ausaf\\\\AppData\\\\Local\\\\Temp\\\\tfhub_modules\\\\9bb74bc86f9caffc8c47dd7b33ec4bb354d9602d\\\\variables\\\\variables' with bilm/RNN_0/RNN/MultiRNNCell/Cell0/rnn/lstm_cell/bias\n",
      "INFO:tensorflow:Initialize variable module/bilm/RNN_0/RNN/MultiRNNCell/Cell0/rnn/lstm_cell/kernel:0 from checkpoint b'C:\\\\Users\\\\ausaf\\\\AppData\\\\Local\\\\Temp\\\\tfhub_modules\\\\9bb74bc86f9caffc8c47dd7b33ec4bb354d9602d\\\\variables\\\\variables' with bilm/RNN_0/RNN/MultiRNNCell/Cell0/rnn/lstm_cell/kernel\n",
      "INFO:tensorflow:Initialize variable module/bilm/RNN_0/RNN/MultiRNNCell/Cell0/rnn/lstm_cell/projection/kernel:0 from checkpoint b'C:\\\\Users\\\\ausaf\\\\AppData\\\\Local\\\\Temp\\\\tfhub_modules\\\\9bb74bc86f9caffc8c47dd7b33ec4bb354d9602d\\\\variables\\\\variables' with bilm/RNN_0/RNN/MultiRNNCell/Cell0/rnn/lstm_cell/projection/kernel\n",
      "INFO:tensorflow:Initialize variable module/bilm/RNN_0/RNN/MultiRNNCell/Cell1/rnn/lstm_cell/bias:0 from checkpoint b'C:\\\\Users\\\\ausaf\\\\AppData\\\\Local\\\\Temp\\\\tfhub_modules\\\\9bb74bc86f9caffc8c47dd7b33ec4bb354d9602d\\\\variables\\\\variables' with bilm/RNN_0/RNN/MultiRNNCell/Cell1/rnn/lstm_cell/bias\n",
      "INFO:tensorflow:Initialize variable module/bilm/RNN_0/RNN/MultiRNNCell/Cell1/rnn/lstm_cell/kernel:0 from checkpoint b'C:\\\\Users\\\\ausaf\\\\AppData\\\\Local\\\\Temp\\\\tfhub_modules\\\\9bb74bc86f9caffc8c47dd7b33ec4bb354d9602d\\\\variables\\\\variables' with bilm/RNN_0/RNN/MultiRNNCell/Cell1/rnn/lstm_cell/kernel\n",
      "INFO:tensorflow:Initialize variable module/bilm/RNN_0/RNN/MultiRNNCell/Cell1/rnn/lstm_cell/projection/kernel:0 from checkpoint b'C:\\\\Users\\\\ausaf\\\\AppData\\\\Local\\\\Temp\\\\tfhub_modules\\\\9bb74bc86f9caffc8c47dd7b33ec4bb354d9602d\\\\variables\\\\variables' with bilm/RNN_0/RNN/MultiRNNCell/Cell1/rnn/lstm_cell/projection/kernel\n",
      "INFO:tensorflow:Initialize variable module/bilm/RNN_1/RNN/MultiRNNCell/Cell0/rnn/lstm_cell/bias:0 from checkpoint b'C:\\\\Users\\\\ausaf\\\\AppData\\\\Local\\\\Temp\\\\tfhub_modules\\\\9bb74bc86f9caffc8c47dd7b33ec4bb354d9602d\\\\variables\\\\variables' with bilm/RNN_1/RNN/MultiRNNCell/Cell0/rnn/lstm_cell/bias\n",
      "INFO:tensorflow:Initialize variable module/bilm/RNN_1/RNN/MultiRNNCell/Cell0/rnn/lstm_cell/kernel:0 from checkpoint b'C:\\\\Users\\\\ausaf\\\\AppData\\\\Local\\\\Temp\\\\tfhub_modules\\\\9bb74bc86f9caffc8c47dd7b33ec4bb354d9602d\\\\variables\\\\variables' with bilm/RNN_1/RNN/MultiRNNCell/Cell0/rnn/lstm_cell/kernel\n"
     ]
    },
    {
     "name": "stdout",
     "output_type": "stream",
     "text": [
      "INFO:tensorflow:Initialize variable module/bilm/RNN_1/RNN/MultiRNNCell/Cell0/rnn/lstm_cell/projection/kernel:0 from checkpoint b'C:\\\\Users\\\\ausaf\\\\AppData\\\\Local\\\\Temp\\\\tfhub_modules\\\\9bb74bc86f9caffc8c47dd7b33ec4bb354d9602d\\\\variables\\\\variables' with bilm/RNN_1/RNN/MultiRNNCell/Cell0/rnn/lstm_cell/projection/kernel\n",
      "INFO:tensorflow:Initialize variable module/bilm/RNN_1/RNN/MultiRNNCell/Cell1/rnn/lstm_cell/bias:0 from checkpoint b'C:\\\\Users\\\\ausaf\\\\AppData\\\\Local\\\\Temp\\\\tfhub_modules\\\\9bb74bc86f9caffc8c47dd7b33ec4bb354d9602d\\\\variables\\\\variables' with bilm/RNN_1/RNN/MultiRNNCell/Cell1/rnn/lstm_cell/bias\n",
      "INFO:tensorflow:Initialize variable module/bilm/RNN_1/RNN/MultiRNNCell/Cell1/rnn/lstm_cell/kernel:0 from checkpoint b'C:\\\\Users\\\\ausaf\\\\AppData\\\\Local\\\\Temp\\\\tfhub_modules\\\\9bb74bc86f9caffc8c47dd7b33ec4bb354d9602d\\\\variables\\\\variables' with bilm/RNN_1/RNN/MultiRNNCell/Cell1/rnn/lstm_cell/kernel\n",
      "INFO:tensorflow:Initialize variable module/bilm/RNN_1/RNN/MultiRNNCell/Cell1/rnn/lstm_cell/projection/kernel:0 from checkpoint b'C:\\\\Users\\\\ausaf\\\\AppData\\\\Local\\\\Temp\\\\tfhub_modules\\\\9bb74bc86f9caffc8c47dd7b33ec4bb354d9602d\\\\variables\\\\variables' with bilm/RNN_1/RNN/MultiRNNCell/Cell1/rnn/lstm_cell/projection/kernel\n",
      "INFO:tensorflow:Initialize variable module/bilm/char_embed:0 from checkpoint b'C:\\\\Users\\\\ausaf\\\\AppData\\\\Local\\\\Temp\\\\tfhub_modules\\\\9bb74bc86f9caffc8c47dd7b33ec4bb354d9602d\\\\variables\\\\variables' with bilm/char_embed\n"
     ]
    }
   ],
   "source": [
    "elmo_model = hub.Module(\"https://tfhub.dev/google/elmo/2\", trainable=True)"
   ]
  },
  {
   "cell_type": "code",
   "execution_count": 5,
   "metadata": {},
   "outputs": [
    {
     "name": "stderr",
     "output_type": "stream",
     "text": [
      "C:\\Users\\ausaf\\Anaconda3\\envs\\tensorflow_environment\\lib\\site-packages\\tensorflow\\python\\client\\session.py:1714: UserWarning: An interactive session is already active. This can cause out-of-memory errors in some cases. You must explicitly call `InteractiveSession.close()` to release resources held by the other session(s).\n",
      "  warnings.warn('An interactive session is already active. This can '\n"
     ]
    }
   ],
   "source": [
    "sess = tf.InteractiveSession()"
   ]
  },
  {
   "cell_type": "code",
   "execution_count": 6,
   "metadata": {},
   "outputs": [],
   "source": [
    "sess.run(tf.global_variables_initializer())"
   ]
  },
  {
   "cell_type": "code",
   "execution_count": 7,
   "metadata": {},
   "outputs": [],
   "source": [
    "embeddings = elmo_model(\n",
    "    [\"the cat is on the mat\", \"dogs are in the fog\"],\n",
    "    signature=\"default\",\n",
    "    as_dict=True\n",
    ")[\"elmo\"]"
   ]
  },
  {
   "cell_type": "code",
   "execution_count": 8,
   "metadata": {},
   "outputs": [
    {
     "data": {
      "text/plain": [
       "(2, 6, 1024)"
      ]
     },
     "execution_count": 8,
     "metadata": {},
     "output_type": "execute_result"
    }
   ],
   "source": [
    "e = sess.run(embeddings)\n",
    "e.shape"
   ]
  },
  {
   "cell_type": "code",
   "execution_count": 9,
   "metadata": {},
   "outputs": [],
   "source": [
    "whitespace_re = re.compile('\\s+')\n",
    "word_re = re.compile('\\w+')"
   ]
  },
  {
   "cell_type": "code",
   "execution_count": 10,
   "metadata": {},
   "outputs": [],
   "source": [
    "x = list()\n",
    "y = list()\n",
    "with open('train.dat', 'r') as fr:\n",
    "    for i, line in enumerate(fr):\n",
    "        if i == 0:\n",
    "            continue\n",
    "        classification, line = whitespace_re.split(line, maxsplit=1)\n",
    "        line = line.strip()\n",
    "        line = html.unescape(line)\n",
    "        line = ' '.join(word_re.findall(line))\n",
    "        x.append(line)\n",
    "        y.append(classification)"
   ]
  },
  {
   "cell_type": "code",
   "execution_count": 11,
   "metadata": {},
   "outputs": [],
   "source": [
    "y = list(map(int, y))\n",
    "lb = LabelBinarizer()\n",
    "lb.fit(y)\n",
    "y = lb.transform(y)"
   ]
  },
  {
   "cell_type": "code",
   "execution_count": 12,
   "metadata": {},
   "outputs": [],
   "source": [
    "num_classes = y.shape[-1]"
   ]
  },
  {
   "cell_type": "code",
   "execution_count": 13,
   "metadata": {},
   "outputs": [
    {
     "data": {
      "text/plain": [
       "array([[0, 1, 0, 0, 0, 0, 0, 0, 0, 0, 0],\n",
       "       [0, 1, 0, 0, 0, 0, 0, 0, 0, 0, 0],\n",
       "       [0, 1, 0, 0, 0, 0, 0, 0, 0, 0, 0],\n",
       "       [0, 0, 0, 0, 0, 0, 0, 1, 0, 0, 0],\n",
       "       [0, 0, 0, 0, 0, 0, 1, 0, 0, 0, 0],\n",
       "       [0, 0, 0, 0, 0, 0, 1, 0, 0, 0, 0],\n",
       "       [0, 1, 0, 0, 0, 0, 0, 0, 0, 0, 0],\n",
       "       [1, 0, 0, 0, 0, 0, 0, 0, 0, 0, 0],\n",
       "       [0, 1, 0, 0, 0, 0, 0, 0, 0, 0, 0],\n",
       "       [0, 1, 0, 0, 0, 0, 0, 0, 0, 0, 0]])"
      ]
     },
     "execution_count": 13,
     "metadata": {},
     "output_type": "execute_result"
    }
   ],
   "source": [
    "y[:10]"
   ]
  },
  {
   "cell_type": "code",
   "execution_count": 14,
   "metadata": {},
   "outputs": [
    {
     "data": {
      "text/plain": [
       "['she had another song out recently but it didn t get that much play',\n",
       " 'wellity i think ima gonna clean my room Gay i need to read a good book sense and sensibility here we come BEAT THE LILY',\n",
       " 'Bug in damn cod4 system link My map pack isnt working',\n",
       " 'weeooow i feel fat i remember when i used to weigh that much pfffffffffffffffffffffftttttttt long time ago hahaha',\n",
       " 'mmmm now you re speaking my language Unfortunately in militant diet mode am seriously thinking of competiton so no TB I guess',\n",
       " 'Really I feel special',\n",
       " 'don t you procrastinate like I do',\n",
       " 'Ive been wanting 2 but will be gone 4 2 mo have to close my shops',\n",
       " 'Sushi two nights in a row isn t THAT wrong is it',\n",
       " 'haha i get my senior license next friday']"
      ]
     },
     "execution_count": 14,
     "metadata": {},
     "output_type": "execute_result"
    }
   ],
   "source": [
    "x[:10]"
   ]
  },
  {
   "cell_type": "code",
   "execution_count": 15,
   "metadata": {},
   "outputs": [
    {
     "data": {
      "text/plain": [
       "50"
      ]
     },
     "execution_count": 15,
     "metadata": {},
     "output_type": "execute_result"
    }
   ],
   "source": [
    "max_sentence_length = 0\n",
    "for line in x:\n",
    "    max_sentence_length = max(max_sentence_length, len(line.split()))\n",
    "max_sentence_length"
   ]
  },
  {
   "cell_type": "code",
   "execution_count": 16,
   "metadata": {},
   "outputs": [],
   "source": [
    "embeddings = elmo_model(\n",
    "    x[:2],\n",
    "    signature=\"default\",\n",
    "    as_dict=True\n",
    ")[\"elmo\"]"
   ]
  },
  {
   "cell_type": "code",
   "execution_count": 17,
   "metadata": {},
   "outputs": [
    {
     "name": "stdout",
     "output_type": "stream",
     "text": [
      "Wall time: 2.01 s\n"
     ]
    }
   ],
   "source": [
    "%%time\n",
    "e = sess.run(embeddings)"
   ]
  },
  {
   "cell_type": "code",
   "execution_count": 18,
   "metadata": {},
   "outputs": [
    {
     "data": {
      "text/plain": [
       "(2, 25, 1024)"
      ]
     },
     "execution_count": 18,
     "metadata": {},
     "output_type": "execute_result"
    }
   ],
   "source": [
    "e.shape"
   ]
  },
  {
   "cell_type": "code",
   "execution_count": 19,
   "metadata": {},
   "outputs": [],
   "source": [
    "embedding_vector_length = e.shape[-1]"
   ]
  },
  {
   "cell_type": "code",
   "execution_count": 20,
   "metadata": {},
   "outputs": [
    {
     "data": {
      "text/plain": [
       "(2, 25, 1024)"
      ]
     },
     "execution_count": 20,
     "metadata": {},
     "output_type": "execute_result"
    }
   ],
   "source": [
    "e.shape"
   ]
  },
  {
   "cell_type": "code",
   "execution_count": 21,
   "metadata": {},
   "outputs": [
    {
     "name": "stdout",
     "output_type": "stream",
     "text": [
      "_________________________________________________________________\n",
      "Layer (type)                 Output Shape              Param #   \n",
      "=================================================================\n",
      "lstm_1 (LSTM)                (None, 100)               450000    \n",
      "_________________________________________________________________\n",
      "dense_1 (Dense)              (None, 11)                1111      \n",
      "=================================================================\n",
      "Total params: 451,111\n",
      "Trainable params: 451,111\n",
      "Non-trainable params: 0\n",
      "_________________________________________________________________\n",
      "None\n"
     ]
    }
   ],
   "source": [
    "# https://keras.io/layers/core/\n",
    "# https://keras.io/getting-started/sequential-model-guide/\n",
    "model = keras.Sequential()\n",
    "model.add(keras.layers.LSTM(\n",
    "    100,\n",
    "    input_shape=(max_sentence_length,embedding_vector_length),\n",
    "))\n",
    "model.add(keras.layers.Dense(\n",
    "    num_classes,\n",
    "    # Hands-On Machine Learning with Scikit-Learn and TensorFlow, ed. 1 by Aurélien Géron\n",
    "    activation='softmax',\n",
    "))\n",
    "model.compile(\n",
    "    # https://www.liip.ch/en/blog/sentiment-detection-with-keras-word-embeddings-and-lstm-deep-learning-networks\n",
    "    loss='categorical_crossentropy',\n",
    "    optimizer='adam',\n",
    "    metrics=['accuracy']\n",
    ")\n",
    "print(model.summary())"
   ]
  },
  {
   "cell_type": "code",
   "execution_count": 22,
   "metadata": {},
   "outputs": [],
   "source": [
    "def pad(e, sentence_length=max_sentence_length):\n",
    "    # https://stackoverflow.com/questions/35751306/python-how-to-pad-numpy-array-with-zeros\n",
    "    num_sentences, old_sentence_length, embedding_length = e.shape\n",
    "    e2 = np.zeros((num_sentences, sentence_length, embedding_length))\n",
    "    e2[:, :old_sentence_length, :] = e\n",
    "    return e2"
   ]
  },
  {
   "cell_type": "code",
   "execution_count": 23,
   "metadata": {},
   "outputs": [],
   "source": [
    "e2 = pad(e)"
   ]
  },
  {
   "cell_type": "code",
   "execution_count": 24,
   "metadata": {},
   "outputs": [
    {
     "name": "stdout",
     "output_type": "stream",
     "text": [
      "Epoch 1/1\n",
      "2/2 [==============================] - 1s 284ms/step - loss: 2.3967 - acc: 0.5000\n"
     ]
    },
    {
     "data": {
      "text/plain": [
       "<keras.callbacks.History at 0x2194d049400>"
      ]
     },
     "execution_count": 24,
     "metadata": {},
     "output_type": "execute_result"
    }
   ],
   "source": [
    "model.fit(e2, y[:2])"
   ]
  },
  {
   "cell_type": "code",
   "execution_count": 25,
   "metadata": {},
   "outputs": [],
   "source": [
    "pred = model.predict(e2)"
   ]
  },
  {
   "cell_type": "code",
   "execution_count": 26,
   "metadata": {},
   "outputs": [
    {
     "data": {
      "text/plain": [
       "array([ True,  True])"
      ]
     },
     "execution_count": 26,
     "metadata": {},
     "output_type": "execute_result"
    }
   ],
   "source": [
    "pred.argmax(axis=1) == y[:2].argmax(axis=1)"
   ]
  },
  {
   "cell_type": "code",
   "execution_count": null,
   "metadata": {},
   "outputs": [],
   "source": []
  }
 ],
 "metadata": {
  "kernelspec": {
   "display_name": "Python (tensorflow)",
   "language": "python",
   "name": "tensorflow_environment"
  },
  "language_info": {
   "codemirror_mode": {
    "name": "ipython",
    "version": 3
   },
   "file_extension": ".py",
   "mimetype": "text/x-python",
   "name": "python",
   "nbconvert_exporter": "python",
   "pygments_lexer": "ipython3",
   "version": "3.6.6"
  }
 },
 "nbformat": 4,
 "nbformat_minor": 2
}
